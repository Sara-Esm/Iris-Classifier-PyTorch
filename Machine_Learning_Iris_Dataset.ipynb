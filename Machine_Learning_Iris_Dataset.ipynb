{
  "nbformat": 4,
  "nbformat_minor": 0,
  "metadata": {
    "colab": {
      "provenance": [],
      "authorship_tag": "ABX9TyODCD0UCth6vQjPBnAczwsk",
      "include_colab_link": true
    },
    "kernelspec": {
      "name": "python3",
      "display_name": "Python 3"
    },
    "language_info": {
      "name": "python"
    }
  },
  "cells": [
    {
      "cell_type": "markdown",
      "metadata": {
        "id": "view-in-github",
        "colab_type": "text"
      },
      "source": [
        "<a href=\"https://colab.research.google.com/github/Sara-Esm/Machine-Learning_Iris-Dataset/blob/main/Machine_Learning_Iris_Dataset.ipynb\" target=\"_parent\"><img src=\"https://colab.research.google.com/assets/colab-badge.svg\" alt=\"Open In Colab\"/></a>"
      ]
    },
    {
      "cell_type": "code",
      "source": [
        "import torch\n",
        "import torch.nn as nn\n",
        "import torch.nn.functional as F"
      ],
      "metadata": {
        "id": "DPUki7i_VNEd"
      },
      "execution_count": null,
      "outputs": []
    },
    {
      "cell_type": "code",
      "source": [
        "class Model(nn.Module):\n",
        "    def __init__(self, in_features, H1, H2, out_features):\n",
        "        super(Model, self).__init__()\n",
        "        self.fc1 = nn.Linear(in_features, H1)\n",
        "        self.fc2 = nn.Linear(H1, H2)\n",
        "        self.out = nn.Linear(H2, out_features)\n",
        "\n",
        "    def forward(self, X):\n",
        "        X = F.relu(self.fc1(X))\n",
        "        X = F.relu(self.fc2(X))\n",
        "        X = self.out(X)\n",
        "        return X"
      ],
      "metadata": {
        "id": "j7jN7YQw_z_2"
      },
      "execution_count": null,
      "outputs": []
    },
    {
      "cell_type": "code",
      "source": [
        "torch.manual_seed(41)"
      ],
      "metadata": {
        "id": "kjN9lQ0w_4n7"
      },
      "execution_count": null,
      "outputs": []
    },
    {
      "cell_type": "code",
      "source": [
        "model = Model(in_features=4, H1=8, H2=8, out_features=3)"
      ],
      "metadata": {
        "id": "GJmRl29hABeu"
      },
      "execution_count": null,
      "outputs": []
    }
  ]
}