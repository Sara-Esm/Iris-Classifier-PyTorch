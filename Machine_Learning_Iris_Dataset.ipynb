{
  "nbformat": 4,
  "nbformat_minor": 0,
  "metadata": {
    "colab": {
      "provenance": [],
      "authorship_tag": "ABX9TyOWW9yTmBXZI4jwF/DGa2Rd",
      "include_colab_link": true
    },
    "kernelspec": {
      "name": "python3",
      "display_name": "Python 3"
    },
    "language_info": {
      "name": "python"
    }
  },
  "cells": [
    {
      "cell_type": "markdown",
      "metadata": {
        "id": "view-in-github",
        "colab_type": "text"
      },
      "source": [
        "<a href=\"https://colab.research.google.com/github/Sara-Esm/Machine-Learning_Iris-Dataset/blob/main/Machine_Learning_Iris_Dataset.ipynb\" target=\"_parent\"><img src=\"https://colab.research.google.com/assets/colab-badge.svg\" alt=\"Open In Colab\"/></a>"
      ]
    },
    {
      "cell_type": "code",
      "source": [
        "import torch\n",
        "import torch.nn as nn\n",
        "import torch.nn.functional as F"
      ],
      "metadata": {
        "id": "DPUki7i_VNEd"
      },
      "execution_count": 1,
      "outputs": []
    },
    {
      "cell_type": "code",
      "source": [
        "class Model(nn.Module):\n",
        "    def __init__(self, in_features, H1, H2, out_features):\n",
        "        super(Model, self).__init__()\n",
        "        self.fc1 = nn.Linear(in_features, H1)\n",
        "        self.fc2 = nn.Linear(H1, H2)\n",
        "        self.out = nn.Linear(H2, out_features)\n",
        "\n",
        "    def forward(self, X):\n",
        "        X = F.relu(self.fc1(X))\n",
        "        X = F.relu(self.fc2(X))\n",
        "        X = self.out(X)\n",
        "        return X"
      ],
      "metadata": {
        "id": "j7jN7YQw_z_2"
      },
      "execution_count": 2,
      "outputs": []
    },
    {
      "cell_type": "code",
      "source": [
        "#pick a manual seed for randomization\n",
        "torch.manual_seed(41)"
      ],
      "metadata": {
        "id": "kjN9lQ0w_4n7",
        "colab": {
          "base_uri": "https://localhost:8080/"
        },
        "outputId": "5a21315a-1390-4986-f70a-494dce23f1ca"
      },
      "execution_count": 3,
      "outputs": [
        {
          "output_type": "execute_result",
          "data": {
            "text/plain": [
              "<torch._C.Generator at 0x7f71187219d0>"
            ]
          },
          "metadata": {},
          "execution_count": 3
        }
      ]
    },
    {
      "cell_type": "code",
      "source": [
        "#Creat an instance of modwel\n",
        "model = Model(in_features=4, H1=8, H2=8, out_features=3)\n",
        "print(model)"
      ],
      "metadata": {
        "id": "GJmRl29hABeu",
        "colab": {
          "base_uri": "https://localhost:8080/"
        },
        "outputId": "3a40d51e-76cb-43af-ec45-42d0c7a90591"
      },
      "execution_count": 5,
      "outputs": [
        {
          "output_type": "stream",
          "name": "stdout",
          "text": [
            "Model(\n",
            "  (fc1): Linear(in_features=4, out_features=8, bias=True)\n",
            "  (fc2): Linear(in_features=8, out_features=8, bias=True)\n",
            "  (out): Linear(in_features=8, out_features=3, bias=True)\n",
            ")\n"
          ]
        }
      ]
    }
  ]
}